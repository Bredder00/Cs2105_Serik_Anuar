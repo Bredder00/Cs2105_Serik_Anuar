{
 "cells": [
  {
   "cell_type": "markdown",
   "id": "d2878196",
   "metadata": {},
   "source": [
    "# Big Data in Law Enforcement"
   ]
  },
  {
   "cell_type": "markdown",
   "id": "98cdfb45",
   "metadata": {},
   "source": [
    "## Author \n",
    "Serik Anuar"
   ]
  },
  {
   "cell_type": "markdown",
   "id": "d0058f38",
   "metadata": {},
   "source": [
    "## Introduction\n",
    "Big data refers to exceptionally large and complex datasets that exceed the capabilities of traditional data processing tools, characterized by their volume, velocity, and variety. It is harnessed for valuable insights and decision-making through specialized technologies and analytical techniques."
   ]
  },
  {
   "cell_type": "markdown",
   "id": "0526b1ff",
   "metadata": {},
   "source": [
    "**Objectives**\n",
    "* List of popular languages for Data Science\n",
    "* Data Science Tools\n",
    "* Arithmetic expressions in Python\n",
    "\n"
   ]
  },
  {
   "cell_type": "markdown",
   "id": "b59fcbd7",
   "metadata": {},
   "source": [
    "*Popular languages that Data Scientists use are:*\n",
    "1. Python\n",
    "2. Java\n",
    "3. Scala"
   ]
  },
  {
   "cell_type": "markdown",
   "id": "2186c792",
   "metadata": {},
   "source": [
    "| Data Science Tools | \n",
    "| ------------------ |\n",
    "| Jupyter Notebook |\n",
    "| TensorFlow |\n",
    "| Matplotlib |\n"
   ]
  },
  {
   "cell_type": "markdown",
   "id": "51d037bc",
   "metadata": {},
   "source": [
    "### Arithmetic expressions in Python"
   ]
  },
  {
   "cell_type": "code",
   "execution_count": 3,
   "id": "3695ef80",
   "metadata": {},
   "outputs": [
    {
     "data": {
      "text/plain": [
       "33"
      ]
     },
     "execution_count": 3,
     "metadata": {},
     "output_type": "execute_result"
    }
   ],
   "source": [
    "# This is simple arithmetic expression\n",
    "(4*6)+9"
   ]
  },
  {
   "cell_type": "code",
   "execution_count": 2,
   "id": "5ea7bfbc",
   "metadata": {},
   "outputs": [
    {
     "name": "stdout",
     "output_type": "stream",
     "text": [
      "5.0\n"
     ]
    }
   ],
   "source": [
    "# This will convert 300 minutes to hours by dividing by 60\n",
    "def conv(min: int) -> float:\n",
    "    hours = min / 60 \n",
    "    return hours\n",
    "    \n",
    "def main():\n",
    "    min = 300\n",
    "    hours = conv(min)\n",
    "    print(hours)\n",
    "\n",
    "if __name__ == '__main__':\n",
    "    main()"
   ]
  }
 ],
 "metadata": {
  "kernelspec": {
   "display_name": "Python 3 (ipykernel)",
   "language": "python",
   "name": "python3"
  },
  "language_info": {
   "codemirror_mode": {
    "name": "ipython",
    "version": 3
   },
   "file_extension": ".py",
   "mimetype": "text/x-python",
   "name": "python",
   "nbconvert_exporter": "python",
   "pygments_lexer": "ipython3",
   "version": "3.9.12"
  }
 },
 "nbformat": 4,
 "nbformat_minor": 5
}
